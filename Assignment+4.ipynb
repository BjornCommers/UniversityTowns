{
 "cells": [
  {
   "cell_type": "markdown",
   "metadata": {},
   "source": [
    "---\n",
    "\n",
    "_You are currently looking at **version 1.1** of this notebook. To download notebooks and datafiles, as well as get help on Jupyter notebooks in the Coursera platform, visit the [Jupyter Notebook FAQ](https://www.coursera.org/learn/python-data-analysis/resources/0dhYG) course resource._\n",
    "\n",
    "---"
   ]
  },
  {
   "cell_type": "code",
   "execution_count": 55,
   "metadata": {
    "collapsed": true
   },
   "outputs": [],
   "source": [
    "import pandas as pd\n",
    "import numpy as np\n",
    "from scipy.stats import ttest_ind"
   ]
  },
  {
   "cell_type": "markdown",
   "metadata": {},
   "source": [
    "# Assignment 4 - Hypothesis Testing\n",
    "This assignment requires more individual learning than previous assignments - you are encouraged to check out the [pandas documentation](http://pandas.pydata.org/pandas-docs/stable/) to find functions or methods you might not have used yet, or ask questions on [Stack Overflow](http://stackoverflow.com/) and tag them as pandas and python related. And of course, the discussion forums are open for interaction with your peers and the course staff.\n",
    "\n",
    "Definitions:\n",
    "* A _quarter_ is a specific three month period, Q1 is January through March, Q2 is April through June, Q3 is July through September, Q4 is October through December.\n",
    "* A _recession_ is defined as starting with two consecutive quarters of GDP decline, and ending with two consecutive quarters of GDP growth.\n",
    "* A _recession bottom_ is the quarter within a recession which had the lowest GDP.\n",
    "* A _university town_ is a city which has a high percentage of university students compared to the total population of the city.\n",
    "\n",
    "**Hypothesis**: University towns have their mean housing prices less effected by recessions. Run a t-test to compare the ratio of the mean price of houses in university towns the quarter before the recession starts compared to the recession bottom. (`price_ratio=quarter_before_recession/recession_bottom`)\n",
    "\n",
    "The following data files are available for this assignment:\n",
    "* From the [Zillow research data site](http://www.zillow.com/research/data/) there is housing data for the United States. In particular the datafile for [all homes at a city level](http://files.zillowstatic.com/research/public/City/City_Zhvi_AllHomes.csv), ```City_Zhvi_AllHomes.csv```, has median home sale prices at a fine grained level.\n",
    "* From the Wikipedia page on college towns is a list of [university towns in the United States](https://en.wikipedia.org/wiki/List_of_college_towns#College_towns_in_the_United_States) which has been copy and pasted into the file ```university_towns.txt```.\n",
    "* From Bureau of Economic Analysis, US Department of Commerce, the [GDP over time](http://www.bea.gov/national/index.htm#gdp) of the United States in current dollars (use the chained value in 2009 dollars), in quarterly intervals, in the file ```gdplev.xls```. For this assignment, only look at GDP data from the first quarter of 2000 onward.\n",
    "\n",
    "Each function in this assignment below is worth 10%, with the exception of ```run_ttest()```, which is worth 50%."
   ]
  },
  {
   "cell_type": "code",
   "execution_count": 56,
   "metadata": {
    "collapsed": true
   },
   "outputs": [],
   "source": [
    "# Use this dictionary to map state names to two letter acronyms\n",
    "states = {'OH': 'Ohio', 'KY': 'Kentucky', 'AS': 'American Samoa', 'NV': 'Nevada', 'WY': 'Wyoming', 'NA': 'National', 'AL': 'Alabama', 'MD': 'Maryland', 'AK': 'Alaska', 'UT': 'Utah', 'OR': 'Oregon', 'MT': 'Montana', 'IL': 'Illinois', 'TN': 'Tennessee', 'DC': 'District of Columbia', 'VT': 'Vermont', 'ID': 'Idaho', 'AR': 'Arkansas', 'ME': 'Maine', 'WA': 'Washington', 'HI': 'Hawaii', 'WI': 'Wisconsin', 'MI': 'Michigan', 'IN': 'Indiana', 'NJ': 'New Jersey', 'AZ': 'Arizona', 'GU': 'Guam', 'MS': 'Mississippi', 'PR': 'Puerto Rico', 'NC': 'North Carolina', 'TX': 'Texas', 'SD': 'South Dakota', 'MP': 'Northern Mariana Islands', 'IA': 'Iowa', 'MO': 'Missouri', 'CT': 'Connecticut', 'WV': 'West Virginia', 'SC': 'South Carolina', 'LA': 'Louisiana', 'KS': 'Kansas', 'NY': 'New York', 'NE': 'Nebraska', 'OK': 'Oklahoma', 'FL': 'Florida', 'CA': 'California', 'CO': 'Colorado', 'PA': 'Pennsylvania', 'DE': 'Delaware', 'NM': 'New Mexico', 'RI': 'Rhode Island', 'MN': 'Minnesota', 'VI': 'Virgin Islands', 'NH': 'New Hampshire', 'MA': 'Massachusetts', 'GA': 'Georgia', 'ND': 'North Dakota', 'VA': 'Virginia'}"
   ]
  },
  {
   "cell_type": "code",
   "execution_count": 57,
   "metadata": {
    "collapsed": true,
    "umich_part_id": "021",
    "umich_partlist_id": "004"
   },
   "outputs": [],
   "source": [
    "def get_list_of_university_towns():\n",
    "    '''Returns a DataFrame of towns and the states they are in from the \n",
    "    university_towns.txt list. The format of the DataFrame should be:\n",
    "    DataFrame( [ [\"Michigan\", \"Ann Arbor\"], [\"Michigan\", \"Yipsilanti\"] ], \n",
    "    columns=[\"State\", \"RegionName\"]  )\n",
    "    \n",
    "    The following cleaning needs to be done:\n",
    "\n",
    "    1. For \"State\", removing characters from \"[\" to the end.\n",
    "    2. For \"RegionName\", when applicable, removing every character from \" (\" to the end.\n",
    "    3. Depending on how you read the data, you may need to remove newline character '\\n'. '''\n",
    "    df = pd.read_csv('university_towns.txt', sep=\"/n\", header=None)\n",
    "    df.columns = ['data']\n",
    "    df.data = df.data.str.replace(r'\\[.*', '')\n",
    "    df.data = df.data.str.replace(r'\\(.*', '')\n",
    "     \n",
    "    new_df = pd.DataFrame(columns = [\"State\", \"RegionName\"])\n",
    "    \n",
    "    for index, row in df.iterrows():\n",
    "        #print(row['data'])\n",
    "        if row['data'] in states.values():\n",
    "            currentState = row['data'].strip()\n",
    "        else:\n",
    "            new_df = new_df.append({\"State\" : currentState , \"RegionName\" : row['data'].strip()}, ignore_index=True)\n",
    "\n",
    "    return new_df\n",
    "\n",
    "#get_list_of_university_towns()"
   ]
  },
  {
   "cell_type": "code",
   "execution_count": 58,
   "metadata": {
    "collapsed": true,
    "umich_part_id": "022",
    "umich_partlist_id": "004"
   },
   "outputs": [],
   "source": [
    "# From Bureau of Economic Analysis, US Department of Commerce, \n",
    "# the GDP over time of the United States in current dollars (use the chained value in 2009 dollars), \n",
    "# in quarterly intervals, in the file gdplev.xls. For this assignment, only look at GDP data from the \n",
    "# first quarter of 2000 onward.\n",
    "\n",
    "def get_recession_start():\n",
    "    '''Returns the year and quarter of the recession start time as a \n",
    "    string value in a format such as 2005q3'''\n",
    "    \n",
    "    df = pd.read_excel('gdplev.xls', skiprows=8, header=None, usecols=[4,6])\n",
    "    df.columns = ['quarter', 'GDP']\n",
    "    index_of_2000 = df[df.quarter == '2000q1'].index[0]\n",
    "    df = df[df.index >= index_of_2000]\n",
    "    \n",
    "    # A recession is defined as \n",
    "    # starting with two consecutive quarters of GDP decline, and ending with two consecutive quarters of GDP growth.\n",
    "    \n",
    "    # Quarters where previous quarter had higher GDP and next quarter has yet lower GDP \n",
    "    # take the most recent one and return only the \"quarter\" column string value\n",
    "    df = df[(df.GDP < df.GDP.shift(1)) & (df.GDP > df.GDP.shift(-1))].head(1).quarter.values[0]\n",
    "    \n",
    "    return df\n",
    "\n",
    "#get_recession_start()"
   ]
  },
  {
   "cell_type": "code",
   "execution_count": 59,
   "metadata": {
    "collapsed": true,
    "umich_part_id": "023",
    "umich_partlist_id": "004"
   },
   "outputs": [],
   "source": [
    "def get_recession_end():\n",
    "    '''Returns the year and quarter of the recession end time as a \n",
    "    string value in a format such as 2005q3'''\n",
    "    \n",
    "    df = pd.read_excel('gdplev.xls', skiprows=8, usecols=[4,6])\n",
    "    df.columns = ['quarter', 'GDP']\n",
    "    year_2000_index = df[df.quarter == '2000q1'].index[0]\n",
    "    \n",
    "    df = df[df.index >= year_2000_index]\n",
    "    \n",
    "    rec_start_date = get_recession_start()\n",
    "    rec_start_date_index = df[df.quarter == rec_start_date].index[0]\n",
    "    #print(rec_start_date_index)\n",
    "    # \"ending with two consecutive quarters of GDP growth\"\n",
    "    # Mistake: I misunderstood the definition of the \"recession end\".\n",
    "    # It ends upon the _second_ consecutive quarter of GDP growth (not the first quarter, as I originally thought)\n",
    "    \n",
    "    # STILL NEED TO FIX....it should be 2009q4\n",
    "    \n",
    "    # This returns q2\n",
    "    #df = df[(df.GDP.shift(-1) > df.GDP) & (df.GDP.shift(-1) < df.GDP.shift(-2))]\n",
    "    \n",
    "    # This returns q3\n",
    "    #df = df[(df.GDP.shift(1) < df.GDP) & (df.GDP < df.GDP.shift(-1)) & (df.GDP.shift(-1) < df.GDP.shift(-2))]\n",
    "    \n",
    "    # Previous period needs to be less than current period & two-periods-ago needs to be less than previous-period\n",
    "    df = df[(df.GDP.shift(1) < df.GDP) & (df.GDP.shift(2) < df.GDP.shift(1))]\n",
    "    \n",
    "    # AND must be after a recession began\n",
    "    df = df[df.index > rec_start_date_index]\n",
    "    \n",
    "    # Get the earliest quarter\n",
    "    df = df.head(1).quarter.values[0]\n",
    "    \n",
    "    \n",
    "    \n",
    "    \n",
    "    return df\n",
    "\n",
    "#get_recession_end()"
   ]
  },
  {
   "cell_type": "code",
   "execution_count": 60,
   "metadata": {
    "umich_part_id": "024",
    "umich_partlist_id": "004"
   },
   "outputs": [
    {
     "data": {
      "text/plain": [
       "'2009q2'"
      ]
     },
     "execution_count": 60,
     "metadata": {},
     "output_type": "execute_result"
    }
   ],
   "source": [
    "def get_recession_bottom():\n",
    "    '''Returns the year and quarter of the recession bottom time as a \n",
    "    string value in a format such as 2005q3'''\n",
    "    \n",
    "    df = pd.read_excel('gdplev.xls', skiprows=8, usecols=[4, 6])\n",
    "    df.columns = ['quarter', 'GDP']\n",
    "    year_2000_index = df[df.quarter == '2000q1'].index[0]\n",
    "    df = df[df.index >= year_2000_index]\n",
    "    \n",
    "    start_string = get_recession_start()\n",
    "    start_index = df[df.quarter == start_string].index[0]\n",
    "    \n",
    "    end_string = get_recession_end()\n",
    "    end_index = df[df.quarter == end_string].index[0]\n",
    "    \n",
    "    recession_df = df[(df.index <= end_index) & (df.index >= start_index)]\n",
    "    \n",
    "    return recession_df.sort_values('GDP').head(1).quarter.values[0]\n",
    "    \n",
    "    #return recession_df\n",
    "\n",
    "get_recession_bottom()"
   ]
  },
  {
   "cell_type": "code",
   "execution_count": 61,
   "metadata": {
    "collapsed": true,
    "umich_part_id": "025",
    "umich_partlist_id": "004"
   },
   "outputs": [],
   "source": [
    "def convert_housing_data_to_quarters():\n",
    "    '''Converts the housing data to quarters and returns it as mean \n",
    "    values in a dataframe. This dataframe should be a dataframe with\n",
    "    columns for 2000q1 through 2016q3, and should have a multi-index\n",
    "    in the shape of [\"State\",\"RegionName\"].\n",
    "    \n",
    "    Note: Quarters are defined in the assignment description, they are\n",
    "    not arbitrary three month periods.\n",
    "    \n",
    "    The resulting dataframe should have 67 columns, and 10,730 rows.\n",
    "    '''\n",
    "    \n",
    "    df = pd.read_csv('City_Zhvi_AllHomes.csv')\n",
    "    \n",
    "    years = [1996, 1997, 1998, 1999]\n",
    "    months = ['01', '02', '03', '04', '05', '06', '07', '08', '09', '10', '11', '12']\n",
    "    del_list = []\n",
    "    for year in years:\n",
    "        for month in months:\n",
    "            newString = str(year) + '-' + month\n",
    "            if newString in ['1996-01', '1996-02', '1996-03']:\n",
    "                continue\n",
    "            del_list.append(newString)\n",
    "            \n",
    "    df.drop(del_list, axis=1, inplace=True)\n",
    "    df.sort_values('State', inplace=True)\n",
    "    df = df.set_index(['State', 'RegionName'])\n",
    "    df.drop(['RegionID', 'Metro', 'CountyName', 'SizeRank'], axis=1, inplace=True)\n",
    "    \n",
    "    df = df.groupby(np.arange(len(df.columns))//3, axis=1).mean()\n",
    "    \n",
    "    years = [2000, 2001, 2002, 2003, 2004, 2005, 2006, 2007, 2008, 2009, 2010, 2011, 2012, 2013, 2014, 2015, 2016]\n",
    "    quarters = ['q1', 'q2', 'q3', 'q4']\n",
    "    newCols = []\n",
    "    for year in years:\n",
    "        for quarter in quarters:\n",
    "            newString = str(year) + quarter\n",
    "            if newString == '2016q4':\n",
    "                continue\n",
    "            newCols.append(newString)\n",
    "            \n",
    "    df.columns = newCols\n",
    "    \n",
    "    df = df.rename(index=states)\n",
    "    \n",
    "    return df\n",
    "\n",
    "#convert_housing_data_to_quarters().loc['Texas'].loc['Austin'].loc['2010q3']\n",
    "#convert_housing_data_to_quarters()"
   ]
  },
  {
   "cell_type": "code",
   "execution_count": null,
   "metadata": {
    "collapsed": true
   },
   "outputs": [],
   "source": []
  },
  {
   "cell_type": "code",
   "execution_count": 62,
   "metadata": {
    "collapsed": true,
    "umich_part_id": "026",
    "umich_partlist_id": "004"
   },
   "outputs": [],
   "source": [
    "def run_ttest():\n",
    "    '''First creates new data showing the decline or growth of housing prices\n",
    "    between the recession start and the recession bottom. Then runs a ttest\n",
    "    comparing the university town values to the non-university towns values, \n",
    "    return whether the alternative hypothesis (that the two groups are the same)\n",
    "    is true or not as well as the p-value of the confidence. \n",
    "    \n",
    "    Return the tuple (different, p, better) where different=True if the t-test is\n",
    "    True at a p<0.01 (we reject the null hypothesis), or different=False if \n",
    "    otherwise (we cannot reject the null hypothesis). The variable p should\n",
    "    be equal to the exact p value returned from scipy.stats.ttest_ind(). The\n",
    "    value for better should be either \"university town\" or \"non-university town\"\n",
    "    depending on which has a lower mean price ratio (which is equivilent to a\n",
    "    reduced market loss).'''\n",
    "    \n",
    "    rec_start = get_recession_start()\n",
    "    rec_bottom = get_recession_bottom()\n",
    "    \n",
    "    df = convert_housing_data_to_quarters()\n",
    "    \n",
    "    # We're only interested in the two columns that represent the start and bottom of the recession\n",
    "    df = df[[rec_start, rec_bottom]]\n",
    "    df.columns = ['start', 'bottom']\n",
    "    \n",
    "    df['change'] = df.bottom - df.start\n",
    "    \n",
    "    df = df.drop(['start', 'bottom'], axis=1)\n",
    "    \n",
    "    #df = df.rename(index=states)\n",
    "    \n",
    "    \n",
    "    univ_towns = get_list_of_university_towns()\n",
    "    univ_towns['isUnivTown'] = 1\n",
    "    #univ_towns = univ_towns.set_index(['State', 'RegionName'])\n",
    "    \n",
    "    df = df.reset_index()\n",
    "    \n",
    "    # Mistakes made so far:\n",
    "    # 1. There was leading/trailing whitespace in 'df' indices, needed to strip()\n",
    "    # 2. I copy-pasted some code and forgot to update it on pasting\n",
    "    \n",
    "    \n",
    "    \n",
    "    univ_towns['State'] = univ_towns.State.str.strip()\n",
    "    univ_towns['RegionName'] = univ_towns.RegionName.str.strip()\n",
    "    \n",
    "    df['State'] =df.State.str.strip()\n",
    "    df['RegionName'] = df.RegionName.str.strip()\n",
    "    \n",
    "#     print(univ_towns.head())\n",
    "#     print()\n",
    "#     print(df.head())\n",
    "    \n",
    "    new_df = pd.merge(df, univ_towns, left_on = ['State', 'RegionName'], right_on=['State', 'RegionName'], how='left')\n",
    "    \n",
    "    #df.isUnivTown.fillna(value = 0, inplace=True)\n",
    "    \n",
    "    #new_df = new_df[new_df.isUnivTown == 1]\n",
    "    \n",
    "    new_df['isUnivTown'] = new_df['isUnivTown'].fillna(0)\n",
    "    \n",
    "    non_univ_change = new_df.where(new_df.isUnivTown == 0)['change']\n",
    "    univ_change = new_df.where(new_df.isUnivTown == 1)['change']\n",
    "    \n",
    "    t_stat, p_value = ttest_ind(univ_change, non_univ_change, nan_policy='omit')\n",
    "    \n",
    "    mean_non_univ = non_univ_change.mean()\n",
    "    mean_univ = univ_change.mean()\n",
    "    \n",
    "    if mean_univ > mean_non_univ:\n",
    "        better = \"university town\"\n",
    "    else: \n",
    "        better = \"non-university town\"\n",
    "        \n",
    "    if p_value < 0.01:\n",
    "        different = True\n",
    "    else:\n",
    "        different = False\n",
    "    \n",
    "    \n",
    "    return (different, p_value, better)\n",
    "\n",
    "#run_ttest()"
   ]
  },
  {
   "cell_type": "code",
   "execution_count": null,
   "metadata": {
    "collapsed": true
   },
   "outputs": [],
   "source": []
  },
  {
   "cell_type": "code",
   "execution_count": null,
   "metadata": {
    "collapsed": true
   },
   "outputs": [],
   "source": []
  }
 ],
 "metadata": {
  "coursera": {
   "course_slug": "python-data-analysis",
   "graded_item_id": "Il9Fx",
   "launcher_item_id": "TeDW0",
   "part_id": "WGlun"
  },
  "kernelspec": {
   "display_name": "Python 3",
   "language": "python",
   "name": "python3"
  },
  "language_info": {
   "codemirror_mode": {
    "name": "ipython",
    "version": 3
   },
   "file_extension": ".py",
   "mimetype": "text/x-python",
   "name": "python",
   "nbconvert_exporter": "python",
   "pygments_lexer": "ipython3",
   "version": "3.6.2"
  },
  "umich": {
   "id": "Assignment 4",
   "version": "1.1"
  }
 },
 "nbformat": 4,
 "nbformat_minor": 1
}
